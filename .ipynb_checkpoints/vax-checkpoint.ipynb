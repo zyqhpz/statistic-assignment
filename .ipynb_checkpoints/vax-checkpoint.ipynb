{
 "cells": [
  {
   "cell_type": "code",
   "execution_count": 4,
   "id": "5853ed8c",
   "metadata": {},
   "outputs": [
    {
     "ename": "ERROR",
     "evalue": "Error in parse(text = x, srcfile = src): <text>:1:8: unexpected symbol\n1: import rpy2\n           ^\n",
     "output_type": "error",
     "traceback": [
      "Error in parse(text = x, srcfile = src): <text>:1:8: unexpected symbol\n1: import rpy2\n           ^\nTraceback:\n"
     ]
    }
   ],
   "source": [
    "import rpy2"
   ]
  },
  {
   "cell_type": "code",
   "execution_count": 1,
   "id": "a2b3408e",
   "metadata": {},
   "outputs": [
    {
     "name": "stderr",
     "output_type": "stream",
     "text": [
      "also installing the dependencies 'purrr', 'roxygen2'\n",
      "\n"
     ]
    },
    {
     "name": "stdout",
     "output_type": "stream",
     "text": [
      "\n",
      "  There are binary versions available but the source versions are later:\n",
      "               binary source needs_compilation\n",
      "roxygen2        7.1.1  7.1.2              TRUE\n",
      "languageserver 0.3.10 0.3.12              TRUE\n",
      "\n",
      "package 'purrr' successfully unpacked and MD5 sums checked\n",
      "\n",
      "The downloaded binary packages are in\n",
      "\tC:\\Users\\haziq\\AppData\\Local\\Temp\\RtmpA3H0HW\\downloaded_packages\n"
     ]
    },
    {
     "name": "stderr",
     "output_type": "stream",
     "text": [
      "installing the source packages 'roxygen2', 'languageserver'\n",
      "\n",
      "Warning message in install.packages(\"languageserver\"):\n",
      "\"installation of package 'roxygen2' had non-zero exit status\"Warning message in install.packages(\"languageserver\"):\n",
      "\"installation of package 'languageserver' had non-zero exit status\"also installing the dependencies 'lifecycle', 'pillar', 'isoband', 'rlang', 'tibble'\n",
      "\n"
     ]
    },
    {
     "name": "stdout",
     "output_type": "stream",
     "text": [
      "\n",
      "  There are binary versions available but the source versions are later:\n",
      "          binary source needs_compilation\n",
      "lifecycle  1.0.0  1.0.1             FALSE\n",
      "pillar     1.6.0  1.6.4             FALSE\n",
      "isoband    0.2.4  0.2.5              TRUE\n",
      "rlang     0.4.11 0.4.12              TRUE\n",
      "tibble     3.1.1  3.1.6              TRUE\n",
      "ggplot2    3.3.3  3.3.5             FALSE\n",
      "\n"
     ]
    },
    {
     "name": "stderr",
     "output_type": "stream",
     "text": [
      "installing the source packages 'lifecycle', 'pillar', 'isoband', 'rlang', 'tibble', 'ggplot2'\n",
      "\n",
      "Warning message in install.packages(\"ggplot2\"):\n",
      "\"installation of package 'isoband' had non-zero exit status\"Warning message in install.packages(\"ggplot2\"):\n",
      "\"installation of package 'rlang' had non-zero exit status\"Warning message in install.packages(\"ggplot2\"):\n",
      "\"installation of package 'lifecycle' had non-zero exit status\"Warning message in install.packages(\"ggplot2\"):\n",
      "\"installation of package 'pillar' had non-zero exit status\"Warning message in install.packages(\"ggplot2\"):\n",
      "\"installation of package 'tibble' had non-zero exit status\"Warning message in install.packages(\"ggplot2\"):\n",
      "\"installation of package 'ggplot2' had non-zero exit status\"also installing the dependencies 'isoband', 'rlang', 'lifecycle', 'pillar', 'ggplot2', 'tibble'\n",
      "\n"
     ]
    },
    {
     "name": "stdout",
     "output_type": "stream",
     "text": [
      "\n",
      "  There are binary versions available but the source versions are later:\n",
      "          binary source needs_compilation\n",
      "isoband    0.2.4  0.2.5              TRUE\n",
      "rlang     0.4.11 0.4.12              TRUE\n",
      "lifecycle  1.0.0  1.0.1             FALSE\n",
      "pillar     1.6.0  1.6.4             FALSE\n",
      "ggplot2    3.3.3  3.3.5             FALSE\n",
      "tibble     3.1.1  3.1.6              TRUE\n",
      "\n",
      "package 'ggthemes' successfully unpacked and MD5 sums checked\n",
      "\n",
      "The downloaded binary packages are in\n",
      "\tC:\\Users\\haziq\\AppData\\Local\\Temp\\RtmpA3H0HW\\downloaded_packages\n"
     ]
    },
    {
     "name": "stderr",
     "output_type": "stream",
     "text": [
      "installing the source packages 'isoband', 'rlang', 'lifecycle', 'pillar', 'ggplot2', 'tibble'\n",
      "\n",
      "Warning message in install.packages(\"ggthemes\"):\n",
      "\"installation of package 'isoband' had non-zero exit status\"Warning message in install.packages(\"ggthemes\"):\n",
      "\"installation of package 'rlang' had non-zero exit status\"Warning message in install.packages(\"ggthemes\"):\n",
      "\"installation of package 'lifecycle' had non-zero exit status\"Warning message in install.packages(\"ggthemes\"):\n",
      "\"installation of package 'pillar' had non-zero exit status\"Warning message in install.packages(\"ggthemes\"):\n",
      "\"installation of package 'tibble' had non-zero exit status\"Warning message in install.packages(\"ggthemes\"):\n",
      "\"installation of package 'ggplot2' had non-zero exit status\"also installing the dependencies 'glue', 'lifecycle', 'rlang', 'tibble', 'tidyselect', 'pillar'\n",
      "\n"
     ]
    },
    {
     "name": "stdout",
     "output_type": "stream",
     "text": [
      "\n",
      "  There are binary versions available but the source versions are later:\n",
      "          binary source needs_compilation\n",
      "glue       1.4.2  1.5.0              TRUE\n",
      "lifecycle  1.0.0  1.0.1             FALSE\n",
      "rlang     0.4.11 0.4.12              TRUE\n",
      "tibble     3.1.1  3.1.6              TRUE\n",
      "pillar     1.6.0  1.6.4             FALSE\n",
      "dplyr      1.0.6  1.0.7              TRUE\n",
      "\n",
      "package 'tidyselect' successfully unpacked and MD5 sums checked\n",
      "\n",
      "The downloaded binary packages are in\n",
      "\tC:\\Users\\haziq\\AppData\\Local\\Temp\\RtmpA3H0HW\\downloaded_packages\n"
     ]
    },
    {
     "name": "stderr",
     "output_type": "stream",
     "text": [
      "installing the source packages 'glue', 'lifecycle', 'rlang', 'tibble', 'pillar', 'dplyr'\n",
      "\n",
      "Warning message in install.packages(\"dplyr\"):\n",
      "\"installation of package 'glue' had non-zero exit status\"Warning message in install.packages(\"dplyr\"):\n",
      "\"installation of package 'rlang' had non-zero exit status\"Warning message in install.packages(\"dplyr\"):\n",
      "\"installation of package 'lifecycle' had non-zero exit status\"Warning message in install.packages(\"dplyr\"):\n",
      "\"installation of package 'pillar' had non-zero exit status\"Warning message in install.packages(\"dplyr\"):\n",
      "\"installation of package 'tibble' had non-zero exit status\"Warning message in install.packages(\"dplyr\"):\n",
      "\"installation of package 'dplyr' had non-zero exit status\"also installing the dependencies 'rlang', 'lifecycle'\n",
      "\n"
     ]
    },
    {
     "name": "stdout",
     "output_type": "stream",
     "text": [
      "\n",
      "  There are binary versions available but the source versions are later:\n",
      "          binary source needs_compilation\n",
      "rlang     0.4.11 0.4.12              TRUE\n",
      "lifecycle  1.0.0  1.0.1             FALSE\n",
      "\n",
      "package 'scales' successfully unpacked and MD5 sums checked\n",
      "\n",
      "The downloaded binary packages are in\n",
      "\tC:\\Users\\haziq\\AppData\\Local\\Temp\\RtmpA3H0HW\\downloaded_packages\n"
     ]
    },
    {
     "name": "stderr",
     "output_type": "stream",
     "text": [
      "installing the source packages 'rlang', 'lifecycle'\n",
      "\n",
      "Warning message in install.packages(\"scales\"):\n",
      "\"installation of package 'rlang' had non-zero exit status\"Warning message in install.packages(\"scales\"):\n",
      "\"installation of package 'lifecycle' had non-zero exit status\""
     ]
    }
   ],
   "source": [
    "install.packages(\"languageserver\")\n",
    "install.packages(\"ggplot2\")\n",
    "install.packages(\"ggthemes\")\n",
    "install.packages(\"dplyr\")\n",
    "install.packages(\"scales\")\n",
    "# install.packages(\"httpgd\")"
   ]
  },
  {
   "cell_type": "code",
   "execution_count": 5,
   "id": "b585b682",
   "metadata": {},
   "outputs": [
    {
     "name": "stdout",
     "output_type": "stream",
     "text": [
      "\n",
      "  There is a binary version available but the source version is later:\n",
      "      binary source needs_compilation\n",
      "rlang 0.4.11 0.4.12              TRUE\n",
      "\n"
     ]
    },
    {
     "name": "stderr",
     "output_type": "stream",
     "text": [
      "installing the source package 'rlang'\n",
      "\n",
      "Warning message in install.packages(\"rlang\"):\n",
      "\"installation of package 'rlang' had non-zero exit status\"also installing the dependencies 'lifecycle', 'pillar', 'isoband', 'rlang', 'tibble'\n",
      "\n"
     ]
    },
    {
     "name": "stdout",
     "output_type": "stream",
     "text": [
      "\n",
      "  There are binary versions available but the source versions are later:\n",
      "          binary source needs_compilation\n",
      "lifecycle  1.0.0  1.0.1             FALSE\n",
      "pillar     1.6.0  1.6.4             FALSE\n",
      "isoband    0.2.4  0.2.5              TRUE\n",
      "rlang     0.4.11 0.4.12              TRUE\n",
      "tibble     3.1.1  3.1.6              TRUE\n",
      "ggplot2    3.3.3  3.3.5             FALSE\n",
      "\n"
     ]
    },
    {
     "name": "stderr",
     "output_type": "stream",
     "text": [
      "installing the source packages 'lifecycle', 'pillar', 'isoband', 'rlang', 'tibble', 'ggplot2'\n",
      "\n",
      "Warning message in install.packages(\"ggplot2\"):\n",
      "\"installation of package 'isoband' had non-zero exit status\"Warning message in install.packages(\"ggplot2\"):\n",
      "\"installation of package 'rlang' had non-zero exit status\"Warning message in install.packages(\"ggplot2\"):\n",
      "\"installation of package 'lifecycle' had non-zero exit status\"Warning message in install.packages(\"ggplot2\"):\n",
      "\"installation of package 'pillar' had non-zero exit status\"Warning message in install.packages(\"ggplot2\"):\n",
      "\"installation of package 'tibble' had non-zero exit status\"Warning message in install.packages(\"ggplot2\"):\n",
      "\"installation of package 'ggplot2' had non-zero exit status\""
     ]
    }
   ],
   "source": [
    "# install.packages('rlang')\n",
    "install.packages(\"ggplot2\", dependencies = TRUE)"
   ]
  },
  {
   "cell_type": "code",
   "execution_count": 2,
   "id": "b8801b39",
   "metadata": {},
   "outputs": [
    {
     "ename": "ERROR",
     "evalue": "Error in library(ggplot2): there is no package called 'ggplot2'\n",
     "output_type": "error",
     "traceback": [
      "Error in library(ggplot2): there is no package called 'ggplot2'\nTraceback:\n",
      "1. library(ggplot2)"
     ]
    }
   ],
   "source": [
    "library(maps)\n",
    "library(ggplot2)\n",
    "library(ggthemes)\n",
    "library(dplyr)\n",
    "library(scales)"
   ]
  },
  {
   "cell_type": "code",
   "execution_count": 10,
   "id": "c1697d64",
   "metadata": {},
   "outputs": [
    {
     "ename": "ERROR",
     "evalue": "Error in library(ggplot2): there is no package called 'ggplot2'\n",
     "output_type": "error",
     "traceback": [
      "Error in library(ggplot2): there is no package called 'ggplot2'\nTraceback:\n",
      "1. library(ggplot2)"
     ]
    }
   ],
   "source": [
    "library(ggplot2)"
   ]
  },
  {
   "cell_type": "code",
   "execution_count": 6,
   "id": "7aeca7f9",
   "metadata": {},
   "outputs": [
    {
     "ename": "ERROR",
     "evalue": "Error in parse(text = x, srcfile = src): <text>:1:1: unexpected input\n1: %R print(ggplot(data=df) + geom_point(aes(x=A, y=B, color=C)))\n    ^\n",
     "output_type": "error",
     "traceback": [
      "Error in parse(text = x, srcfile = src): <text>:1:1: unexpected input\n1: %R print(ggplot(data=df) + geom_point(aes(x=A, y=B, color=C)))\n    ^\nTraceback:\n"
     ]
    }
   ],
   "source": [
    "%R print(ggplot(data=df) + geom_point(aes(x=A, y=B, color=C)))"
   ]
  }
 ],
 "metadata": {
  "kernelspec": {
   "display_name": "R",
   "language": "R",
   "name": "ir"
  },
  "language_info": {
   "codemirror_mode": "r",
   "file_extension": ".r",
   "mimetype": "text/x-r-source",
   "name": "R",
   "pygments_lexer": "r",
   "version": "3.6.1"
  }
 },
 "nbformat": 4,
 "nbformat_minor": 5
}
