{
 "cells": [
  {
   "cell_type": "code",
   "execution_count": 4,
   "id": "5853ed8c",
   "metadata": {},
   "outputs": [
    {
     "ename": "ERROR",
     "evalue": "Error in parse(text = x, srcfile = src): <text>:1:8: unexpected symbol\n1: import rpy2\n           ^\n",
     "output_type": "error",
     "traceback": [
      "Error in parse(text = x, srcfile = src): <text>:1:8: unexpected symbol\n1: import rpy2\n           ^\nTraceback:\n"
     ]
    }
   ],
   "source": [
    "import rpy2"
   ]
  },
  {
   "cell_type": "code",
   "execution_count": 3,
   "id": "a2b3408e",
   "metadata": {},
   "outputs": [
    {
     "name": "stderr",
     "output_type": "stream",
     "text": [
      "also installing the dependency 'roxygen2'\n",
      "\n"
     ]
    },
    {
     "name": "stdout",
     "output_type": "stream",
     "text": [
      "\n",
      "  There are binary versions available but the source versions are later:\n",
      "               binary source needs_compilation\n",
      "roxygen2        7.1.1  7.1.2              TRUE\n",
      "languageserver 0.3.10 0.3.12              TRUE\n",
      "\n"
     ]
    },
    {
     "name": "stderr",
     "output_type": "stream",
     "text": [
      "installing the source packages 'roxygen2', 'languageserver'\n",
      "\n",
      "Warning message in install.packages(\"languageserver\"):\n",
      "\"installation of package 'roxygen2' had non-zero exit status\"Warning message in install.packages(\"languageserver\"):\n",
      "\"installation of package 'languageserver' had non-zero exit status\"also installing the dependencies 'lifecycle', 'pillar', 'isoband', 'rlang', 'tibble'\n",
      "\n"
     ]
    },
    {
     "name": "stdout",
     "output_type": "stream",
     "text": [
      "\n",
      "  There are binary versions available but the source versions are later:\n",
      "          binary source needs_compilation\n",
      "lifecycle  1.0.0  1.0.1             FALSE\n",
      "pillar     1.6.0  1.6.4             FALSE\n",
      "isoband    0.2.4  0.2.5              TRUE\n",
      "rlang     0.4.11 0.4.12              TRUE\n",
      "tibble     3.1.1  3.1.6              TRUE\n",
      "ggplot2    3.3.3  3.3.5             FALSE\n",
      "\n"
     ]
    },
    {
     "name": "stderr",
     "output_type": "stream",
     "text": [
      "installing the source packages 'lifecycle', 'pillar', 'isoband', 'rlang', 'tibble', 'ggplot2'\n",
      "\n",
      "Warning message in install.packages(\"ggplot2\"):\n",
      "\"installation of package 'isoband' had non-zero exit status\"Warning message in install.packages(\"ggplot2\"):\n",
      "\"installation of package 'rlang' had non-zero exit status\"Warning message in install.packages(\"ggplot2\"):\n",
      "\"installation of package 'lifecycle' had non-zero exit status\"Warning message in install.packages(\"ggplot2\"):\n",
      "\"installation of package 'pillar' had non-zero exit status\"Warning message in install.packages(\"ggplot2\"):\n",
      "\"installation of package 'tibble' had non-zero exit status\"Warning message in install.packages(\"ggplot2\"):\n",
      "\"installation of package 'ggplot2' had non-zero exit status\"also installing the dependencies 'isoband', 'rlang', 'lifecycle', 'pillar', 'ggplot2', 'tibble'\n",
      "\n"
     ]
    },
    {
     "name": "stdout",
     "output_type": "stream",
     "text": [
      "\n",
      "  There are binary versions available but the source versions are later:\n",
      "          binary source needs_compilation\n",
      "isoband    0.2.4  0.2.5              TRUE\n",
      "rlang     0.4.11 0.4.12              TRUE\n",
      "lifecycle  1.0.0  1.0.1             FALSE\n",
      "pillar     1.6.0  1.6.4             FALSE\n",
      "ggplot2    3.3.3  3.3.5             FALSE\n",
      "tibble     3.1.1  3.1.6              TRUE\n",
      "\n",
      "package 'ggthemes' successfully unpacked and MD5 sums checked\n",
      "\n",
      "The downloaded binary packages are in\n",
      "\tC:\\Users\\haziq\\AppData\\Local\\Temp\\RtmpqUTatF\\downloaded_packages\n"
     ]
    },
    {
     "name": "stderr",
     "output_type": "stream",
     "text": [
      "installing the source packages 'isoband', 'rlang', 'lifecycle', 'pillar', 'ggplot2', 'tibble'\n",
      "\n",
      "Warning message in install.packages(\"ggthemes\"):\n",
      "\"installation of package 'isoband' had non-zero exit status\"Warning message in install.packages(\"ggthemes\"):\n",
      "\"installation of package 'rlang' had non-zero exit status\"Warning message in install.packages(\"ggthemes\"):\n",
      "\"installation of package 'lifecycle' had non-zero exit status\"Warning message in install.packages(\"ggthemes\"):\n",
      "\"installation of package 'pillar' had non-zero exit status\"Warning message in install.packages(\"ggthemes\"):\n",
      "\"installation of package 'tibble' had non-zero exit status\"Warning message in install.packages(\"ggthemes\"):\n",
      "\"installation of package 'ggplot2' had non-zero exit status\"also installing the dependencies 'glue', 'lifecycle', 'rlang', 'tibble', 'pillar'\n",
      "\n"
     ]
    },
    {
     "name": "stdout",
     "output_type": "stream",
     "text": [
      "\n",
      "  There are binary versions available but the source versions are later:\n",
      "          binary source needs_compilation\n",
      "glue       1.4.2  1.5.0              TRUE\n",
      "lifecycle  1.0.0  1.0.1             FALSE\n",
      "rlang     0.4.11 0.4.12              TRUE\n",
      "tibble     3.1.1  3.1.6              TRUE\n",
      "pillar     1.6.0  1.6.4             FALSE\n",
      "dplyr      1.0.6  1.0.7              TRUE\n",
      "\n"
     ]
    },
    {
     "name": "stderr",
     "output_type": "stream",
     "text": [
      "installing the source packages 'glue', 'lifecycle', 'rlang', 'tibble', 'pillar', 'dplyr'\n",
      "\n",
      "Warning message in install.packages(\"dplyr\"):\n",
      "\"installation of package 'glue' had non-zero exit status\"Warning message in install.packages(\"dplyr\"):\n",
      "\"installation of package 'rlang' had non-zero exit status\"Warning message in install.packages(\"dplyr\"):\n",
      "\"installation of package 'lifecycle' had non-zero exit status\"Warning message in install.packages(\"dplyr\"):\n",
      "\"installation of package 'pillar' had non-zero exit status\"Warning message in install.packages(\"dplyr\"):\n",
      "\"installation of package 'tibble' had non-zero exit status\"Warning message in install.packages(\"dplyr\"):\n",
      "\"installation of package 'dplyr' had non-zero exit status\"also installing the dependencies 'rlang', 'lifecycle'\n",
      "\n"
     ]
    },
    {
     "name": "stdout",
     "output_type": "stream",
     "text": [
      "\n",
      "  There are binary versions available but the source versions are later:\n",
      "          binary source needs_compilation\n",
      "rlang     0.4.11 0.4.12              TRUE\n",
      "lifecycle  1.0.0  1.0.1             FALSE\n",
      "\n",
      "package 'scales' successfully unpacked and MD5 sums checked\n",
      "\n",
      "The downloaded binary packages are in\n",
      "\tC:\\Users\\haziq\\AppData\\Local\\Temp\\RtmpqUTatF\\downloaded_packages\n"
     ]
    },
    {
     "name": "stderr",
     "output_type": "stream",
     "text": [
      "installing the source packages 'rlang', 'lifecycle'\n",
      "\n",
      "Warning message in install.packages(\"scales\"):\n",
      "\"installation of package 'rlang' had non-zero exit status\"Warning message in install.packages(\"scales\"):\n",
      "\"installation of package 'lifecycle' had non-zero exit status\""
     ]
    }
   ],
   "source": [
    "install.packages(\"languageserver\")\n",
    "install.packages(\"ggplot2\")\n",
    "install.packages(\"ggthemes\")\n",
    "install.packages(\"dplyr\")\n",
    "install.packages(\"scales\")\n",
    "# install.packages(\"httpgd\")"
   ]
  },
  {
   "cell_type": "code",
   "execution_count": 5,
   "id": "b585b682",
   "metadata": {},
   "outputs": [
    {
     "name": "stderr",
     "output_type": "stream",
     "text": [
      "also installing the dependencies 'Rcpp', 'matrixStats', 'RcppArmadillo', 'wk', 'lifecycle', 'pillar', 'systemfonts', 'textshaping', 'glue', 'survival', 'viridis', 'sp', 'conquer', 's2', 'units', 'cli', 'waldo', 'diffobj', 'isoband', 'rlang', 'tibble', 'ragg', 'dplyr', 'Hmisc', 'maptools', 'quantreg', 'rgeos', 'sf', 'testthat', 'vdiffr'\n",
      "\n"
     ]
    },
    {
     "name": "stdout",
     "output_type": "stream",
     "text": [
      "\n",
      "  There are binary versions available but the source versions are later:\n",
      "                  binary     source needs_compilation\n",
      "Rcpp               1.0.6      1.0.7              TRUE\n",
      "matrixStats       0.58.0     0.61.0              TRUE\n",
      "RcppArmadillo 0.10.4.0.0 0.10.7.3.0              TRUE\n",
      "wk                 0.4.1      0.5.0              TRUE\n",
      "lifecycle          1.0.0      1.0.1             FALSE\n",
      "pillar             1.6.0      1.6.4             FALSE\n",
      "systemfonts        1.0.2      1.0.3              TRUE\n",
      "textshaping        0.3.4      0.3.6              TRUE\n",
      "glue               1.4.2      1.5.0              TRUE\n",
      "survival          3.2-11     3.2-13              TRUE\n",
      "viridis            0.6.1      0.6.2             FALSE\n",
      "sp                 1.4-5      1.4-6              TRUE\n",
      "conquer            1.0.2      1.2.1              TRUE\n",
      "s2                 1.0.4      1.0.7              TRUE\n",
      "units              0.7-1      0.7-2              TRUE\n",
      "cli                2.5.0      3.1.0              TRUE\n",
      "waldo              0.2.5      0.3.1             FALSE\n",
      "diffobj            0.3.4      0.3.5              TRUE\n",
      "isoband            0.2.4      0.2.5              TRUE\n",
      "rlang             0.4.11     0.4.12              TRUE\n",
      "tibble             3.1.1      3.1.6              TRUE\n",
      "ragg               1.1.2      1.2.0              TRUE\n",
      "dplyr              1.0.6      1.0.7              TRUE\n",
      "Hmisc              4.5-0      4.6-0              TRUE\n",
      "maptools           1.1-1      1.1-2              TRUE\n",
      "quantreg            5.85       5.86              TRUE\n",
      "rgeos              0.5-5      0.5-8              TRUE\n",
      "sf                 0.9-8      1.0-4              TRUE\n",
      "testthat           3.0.2      3.1.0              TRUE\n",
      "vdiffr             0.3.3      1.0.2              TRUE\n",
      "ggplot2            3.3.3      3.3.5             FALSE\n",
      "\n"
     ]
    },
    {
     "name": "stderr",
     "output_type": "stream",
     "text": [
      "installing the source packages 'Rcpp', 'matrixStats', 'RcppArmadillo', 'wk', 'lifecycle', 'pillar', 'systemfonts', 'textshaping', 'glue', 'survival', 'viridis', 'sp', 'conquer', 's2', 'units', 'cli', 'waldo', 'diffobj', 'isoband', 'rlang', 'tibble', 'ragg', 'dplyr', 'Hmisc', 'maptools', 'quantreg', 'rgeos', 'sf', 'testthat', 'vdiffr', 'ggplot2'\n",
      "\n",
      "Warning message in install.packages(\"ggplot2\", dependencies = TRUE):\n",
      "\"installation of package 'Rcpp' had non-zero exit status\"Warning message in install.packages(\"ggplot2\", dependencies = TRUE):\n",
      "\"installation of package 'matrixStats' had non-zero exit status\"Warning message in install.packages(\"ggplot2\", dependencies = TRUE):\n",
      "\"installation of package 'wk' had non-zero exit status\"Warning message in install.packages(\"ggplot2\", dependencies = TRUE):\n",
      "\"installation of package 'systemfonts' had non-zero exit status\"Warning message in install.packages(\"ggplot2\", dependencies = TRUE):\n",
      "\"installation of package 'glue' had non-zero exit status\"Warning message in install.packages(\"ggplot2\", dependencies = TRUE):\n",
      "\"installation of package 'survival' had non-zero exit status\"Warning message in install.packages(\"ggplot2\", dependencies = TRUE):\n",
      "\"installation of package 'sp' had non-zero exit status\"Warning message in install.packages(\"ggplot2\", dependencies = TRUE):\n",
      "\"installation of package 'diffobj' had non-zero exit status\"Warning message in install.packages(\"ggplot2\", dependencies = TRUE):\n",
      "\"installation of package 'isoband' had non-zero exit status\"Warning message in install.packages(\"ggplot2\", dependencies = TRUE):\n",
      "\"installation of package 'rlang' had non-zero exit status\"Warning message in install.packages(\"ggplot2\", dependencies = TRUE):\n",
      "\"installation of package 'RcppArmadillo' had non-zero exit status\"Warning message in install.packages(\"ggplot2\", dependencies = TRUE):\n",
      "\"installation of package 'lifecycle' had non-zero exit status\"Warning message in install.packages(\"ggplot2\", dependencies = TRUE):\n",
      "\"installation of package 'textshaping' had non-zero exit status\"Warning message in install.packages(\"ggplot2\", dependencies = TRUE):\n",
      "\"installation of package 's2' had non-zero exit status\"Warning message in install.packages(\"ggplot2\", dependencies = TRUE):\n",
      "\"installation of package 'units' had non-zero exit status\"Warning message in install.packages(\"ggplot2\", dependencies = TRUE):\n",
      "\"installation of package 'cli' had non-zero exit status\"Warning message in install.packages(\"ggplot2\", dependencies = TRUE):\n",
      "\"installation of package 'maptools' had non-zero exit status\"Warning message in install.packages(\"ggplot2\", dependencies = TRUE):\n",
      "\"installation of package 'rgeos' had non-zero exit status\"Warning message in install.packages(\"ggplot2\", dependencies = TRUE):\n",
      "\"installation of package 'pillar' had non-zero exit status\"Warning message in install.packages(\"ggplot2\", dependencies = TRUE):\n",
      "\"installation of package 'conquer' had non-zero exit status\"Warning message in install.packages(\"ggplot2\", dependencies = TRUE):\n",
      "\"installation of package 'ragg' had non-zero exit status\"Warning message in install.packages(\"ggplot2\", dependencies = TRUE):\n",
      "\"installation of package 'sf' had non-zero exit status\"Warning message in install.packages(\"ggplot2\", dependencies = TRUE):\n",
      "\"installation of package 'tibble' had non-zero exit status\"Warning message in install.packages(\"ggplot2\", dependencies = TRUE):\n",
      "\"installation of package 'quantreg' had non-zero exit status\"Warning message in install.packages(\"ggplot2\", dependencies = TRUE):\n",
      "\"installation of package 'waldo' had non-zero exit status\"Warning message in install.packages(\"ggplot2\", dependencies = TRUE):\n",
      "\"installation of package 'dplyr' had non-zero exit status\"Warning message in install.packages(\"ggplot2\", dependencies = TRUE):\n",
      "\"installation of package 'ggplot2' had non-zero exit status\"Warning message in install.packages(\"ggplot2\", dependencies = TRUE):\n",
      "\"installation of package 'viridis' had non-zero exit status\"Warning message in install.packages(\"ggplot2\", dependencies = TRUE):\n",
      "\"installation of package 'testthat' had non-zero exit status\"Warning message in install.packages(\"ggplot2\", dependencies = TRUE):\n",
      "\"installation of package 'Hmisc' had non-zero exit status\"Warning message in install.packages(\"ggplot2\", dependencies = TRUE):\n",
      "\"installation of package 'vdiffr' had non-zero exit status\""
     ]
    }
   ],
   "source": [
    "# install.packages('rlang')\n",
    "install.packages(\"ggplot2\", dependencies = TRUE)"
   ]
  },
  {
   "cell_type": "code",
   "execution_count": 2,
   "id": "b8801b39",
   "metadata": {},
   "outputs": [
    {
     "ename": "ERROR",
     "evalue": "Error in library(ggplot2): there is no package called 'ggplot2'\n",
     "output_type": "error",
     "traceback": [
      "Error in library(ggplot2): there is no package called 'ggplot2'\nTraceback:\n",
      "1. library(ggplot2)"
     ]
    }
   ],
   "source": [
    "library(maps)\n",
    "library(ggplot2)\n",
    "library(ggthemes)\n",
    "library(dplyr)\n",
    "library(scales)"
   ]
  },
  {
   "cell_type": "code",
   "execution_count": 6,
   "id": "c1697d64",
   "metadata": {},
   "outputs": [
    {
     "ename": "ERROR",
     "evalue": "Error in library(ggplot2): there is no package called 'ggplot2'\n",
     "output_type": "error",
     "traceback": [
      "Error in library(ggplot2): there is no package called 'ggplot2'\nTraceback:\n",
      "1. library(ggplot2)"
     ]
    }
   ],
   "source": [
    "library(ggplot2)"
   ]
  },
  {
   "cell_type": "code",
   "execution_count": 6,
   "id": "7aeca7f9",
   "metadata": {},
   "outputs": [
    {
     "ename": "ERROR",
     "evalue": "Error in parse(text = x, srcfile = src): <text>:1:1: unexpected input\n1: %R print(ggplot(data=df) + geom_point(aes(x=A, y=B, color=C)))\n    ^\n",
     "output_type": "error",
     "traceback": [
      "Error in parse(text = x, srcfile = src): <text>:1:1: unexpected input\n1: %R print(ggplot(data=df) + geom_point(aes(x=A, y=B, color=C)))\n    ^\nTraceback:\n"
     ]
    }
   ],
   "source": [
    "%R print(ggplot(data=df) + geom_point(aes(x=A, y=B, color=C)))"
   ]
  }
 ],
 "metadata": {
  "interpreter": {
   "hash": "e88a2271d89324a3451f5b0c729318efb06edc6ed5ed496edb69134802c0dd6a"
  },
  "kernelspec": {
   "display_name": "R",
   "language": "R",
   "name": "python3812jvsc74a57bd0e88a2271d89324a3451f5b0c729318efb06edc6ed5ed496edb69134802c0dd6a"
  },
  "language_info": {
   "codemirror_mode": "r",
   "file_extension": ".r",
   "mimetype": "text/x-r-source",
   "name": "R",
   "pygments_lexer": "r",
   "version": "3.6.1"
  }
 },
 "nbformat": 4,
 "nbformat_minor": 5
}
